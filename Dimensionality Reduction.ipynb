{
 "cells": [
  {
   "cell_type": "markdown",
   "metadata": {},
   "source": [
    "### Data Set Information:\n",
    "\n",
    "The dataset was downloaded from https://www.kaggle.com/rajyellow46/wine-quality \n",
    "\n",
    "## Attribute Information:\n",
    "Input variables (based on physicochemical tests):\n",
    "\n",
    "1 - fixed acidity\n",
    "\n",
    "2 - volatile acidity\n",
    "\n",
    "3 - citric acid\n",
    "\n",
    "4 - residual sugar\n",
    "\n",
    "5 - chlorides\n",
    "\n",
    "6 - free sulfur dioxide\n",
    "\n",
    "7 - total sulfur dioxide\n",
    "\n",
    "8 - density\n",
    "\n",
    "9 - pH\n",
    "\n",
    "10 - sulphates\n",
    "\n",
    "11 - alcohol\n",
    "\n",
    "12 - quality (score between 0 and 10) - Output target variable\n",
    "\n",
    "13 - type"
   ]
  },
  {
   "cell_type": "code",
   "execution_count": 1,
   "metadata": {},
   "outputs": [],
   "source": [
    "#import the libraries\n",
    "\n",
    "import pandas as pd\n",
    "import numpy as np\n",
    "import matplotlib.pyplot as plt\n",
    "import seaborn as sns\n",
    "import sklearn"
   ]
  },
  {
   "cell_type": "code",
   "execution_count": 2,
   "metadata": {},
   "outputs": [],
   "source": [
    "#Import the dataset\n",
    "\n",
    "dataset=pd.read_csv(\"winequalityN.csv\")"
   ]
  },
  {
   "cell_type": "code",
   "execution_count": 3,
   "metadata": {},
   "outputs": [
    {
     "data": {
      "text/plain": [
       "<bound method DataFrame.info of        type  fixed acidity  volatile acidity  citric acid  residual sugar  \\\n",
       "0     white            7.0             0.270         0.36            20.7   \n",
       "1     white            6.3             0.300         0.34             1.6   \n",
       "2     white            8.1             0.280         0.40             6.9   \n",
       "3     white            7.2             0.230         0.32             8.5   \n",
       "4     white            7.2             0.230         0.32             8.5   \n",
       "...     ...            ...               ...          ...             ...   \n",
       "6492    red            6.2             0.600         0.08             2.0   \n",
       "6493    red            5.9             0.550         0.10             2.2   \n",
       "6494    red            6.3             0.510         0.13             2.3   \n",
       "6495    red            5.9             0.645         0.12             2.0   \n",
       "6496    red            6.0             0.310         0.47             3.6   \n",
       "\n",
       "      chlorides  free sulfur dioxide  total sulfur dioxide  density    pH  \\\n",
       "0         0.045                 45.0                 170.0  1.00100  3.00   \n",
       "1         0.049                 14.0                 132.0  0.99400  3.30   \n",
       "2         0.050                 30.0                  97.0  0.99510  3.26   \n",
       "3         0.058                 47.0                 186.0  0.99560  3.19   \n",
       "4         0.058                 47.0                 186.0  0.99560  3.19   \n",
       "...         ...                  ...                   ...      ...   ...   \n",
       "6492      0.090                 32.0                  44.0  0.99490  3.45   \n",
       "6493      0.062                 39.0                  51.0  0.99512  3.52   \n",
       "6494      0.076                 29.0                  40.0  0.99574  3.42   \n",
       "6495      0.075                 32.0                  44.0  0.99547  3.57   \n",
       "6496      0.067                 18.0                  42.0  0.99549  3.39   \n",
       "\n",
       "      sulphates  alcohol  quality  \n",
       "0          0.45      8.8        6  \n",
       "1          0.49      9.5        6  \n",
       "2          0.44     10.1        6  \n",
       "3          0.40      9.9        6  \n",
       "4          0.40      9.9        6  \n",
       "...         ...      ...      ...  \n",
       "6492       0.58     10.5        5  \n",
       "6493        NaN     11.2        6  \n",
       "6494       0.75     11.0        6  \n",
       "6495       0.71     10.2        5  \n",
       "6496       0.66     11.0        6  \n",
       "\n",
       "[6497 rows x 13 columns]>"
      ]
     },
     "execution_count": 3,
     "metadata": {},
     "output_type": "execute_result"
    }
   ],
   "source": [
    "dataset.info"
   ]
  },
  {
   "cell_type": "markdown",
   "metadata": {},
   "source": [
    "## 1. Missing Value Ratio"
   ]
  },
  {
   "cell_type": "code",
   "execution_count": 4,
   "metadata": {},
   "outputs": [
    {
     "data": {
      "text/plain": [
       "type                    0.000000\n",
       "fixed acidity           0.153917\n",
       "volatile acidity        0.123134\n",
       "citric acid             0.046175\n",
       "residual sugar          0.030783\n",
       "chlorides               0.030783\n",
       "free sulfur dioxide     0.000000\n",
       "total sulfur dioxide    0.000000\n",
       "density                 0.000000\n",
       "pH                      0.138525\n",
       "sulphates               0.061567\n",
       "alcohol                 0.000000\n",
       "quality                 0.000000\n",
       "dtype: float64"
      ]
     },
     "execution_count": 4,
     "metadata": {},
     "output_type": "execute_result"
    }
   ],
   "source": [
    "# checking the percentage of missing values in each variable\n",
    "\n",
    "dataset.isnull().sum()/len(dataset)*100"
   ]
  },
  {
   "cell_type": "code",
   "execution_count": 5,
   "metadata": {},
   "outputs": [],
   "source": [
    "#check if any are more than the threshold\n",
    "null_percentages = dataset.isnull().sum()/len(dataset)*100\n",
    "\n",
    "# saving column names in a variable\n",
    "features = dataset.columns\n",
    "feature = [ ]\n",
    "\n",
    "for i in range(0,len(null_percentages)):\n",
    "    if null_percentages[i]<=20:   #setting the threshold value, i.e 20%\n",
    "        feature.append(features[i])"
   ]
  },
  {
   "cell_type": "code",
   "execution_count": 6,
   "metadata": {},
   "outputs": [
    {
     "name": "stdout",
     "output_type": "stream",
     "text": [
      "13\n",
      "['type', 'fixed acidity', 'volatile acidity', 'citric acid', 'residual sugar', 'chlorides', 'free sulfur dioxide', 'total sulfur dioxide', 'density', 'pH', 'sulphates', 'alcohol', 'quality']\n"
     ]
    }
   ],
   "source": [
    "print(len(feature))\n",
    "print(feature)"
   ]
  },
  {
   "cell_type": "code",
   "execution_count": 7,
   "metadata": {},
   "outputs": [
    {
     "data": {
      "text/plain": [
       "0.04499117936088846"
      ]
     },
     "execution_count": 7,
     "metadata": {},
     "output_type": "execute_result"
    }
   ],
   "source": [
    "#check the percentage of rows that have null values\n",
    "\n",
    "(dataset.isnull().sum().sum()/(dataset.shape[0]*dataset.shape[1]))*100"
   ]
  },
  {
   "cell_type": "code",
   "execution_count": 8,
   "metadata": {},
   "outputs": [],
   "source": [
    "#Since the percentage of null values is negligible we can drop those\n",
    "\n",
    "dataset = dataset.dropna(axis=0)\n"
   ]
  },
  {
   "cell_type": "code",
   "execution_count": 9,
   "metadata": {},
   "outputs": [
    {
     "data": {
      "text/plain": [
       "0.0"
      ]
     },
     "execution_count": 9,
     "metadata": {},
     "output_type": "execute_result"
    }
   ],
   "source": [
    "#check the percentage of rows that have null values\n",
    "\n",
    "(dataset.isnull().sum().sum()/(dataset.shape[0]*dataset.shape[1]))*100"
   ]
  },
  {
   "cell_type": "markdown",
   "metadata": {},
   "source": [
    "## 2. Low Variance Filter"
   ]
  },
  {
   "cell_type": "code",
   "execution_count": 10,
   "metadata": {},
   "outputs": [
    {
     "name": "stderr",
     "output_type": "stream",
     "text": [
      "C:\\Users\\PRECIS~1\\AppData\\Local\\Temp/ipykernel_1292/4111549166.py:3: FutureWarning: Dropping of nuisance columns in DataFrame reductions (with 'numeric_only=None') is deprecated; in a future version this will raise TypeError.  Select only valid columns before calling the reduction.\n",
      "  dataset.var()\n"
     ]
    },
    {
     "data": {
      "text/plain": [
       "fixed acidity              1.684578\n",
       "volatile acidity           0.027106\n",
       "citric acid                0.021098\n",
       "residual sugar            22.627638\n",
       "chlorides                  0.001230\n",
       "free sulfur dioxide      315.375528\n",
       "total sulfur dioxide    3195.271901\n",
       "density                    0.000009\n",
       "pH                         0.025808\n",
       "sulphates                  0.022175\n",
       "alcohol                    1.423555\n",
       "quality                    0.762629\n",
       "dtype: float64"
      ]
     },
     "execution_count": 10,
     "metadata": {},
     "output_type": "execute_result"
    }
   ],
   "source": [
    "#check the variance \n",
    "\n",
    "dataset.var()"
   ]
  },
  {
   "cell_type": "code",
   "execution_count": 11,
   "metadata": {},
   "outputs": [],
   "source": [
    "#density has the least variance which is very less when compared to other variables so we can safely drop this\n",
    "\n",
    "dataset=dataset.drop(['density'],axis=1)"
   ]
  },
  {
   "cell_type": "code",
   "execution_count": 12,
   "metadata": {},
   "outputs": [
    {
     "data": {
      "text/html": [
       "<div>\n",
       "<style scoped>\n",
       "    .dataframe tbody tr th:only-of-type {\n",
       "        vertical-align: middle;\n",
       "    }\n",
       "\n",
       "    .dataframe tbody tr th {\n",
       "        vertical-align: top;\n",
       "    }\n",
       "\n",
       "    .dataframe thead th {\n",
       "        text-align: right;\n",
       "    }\n",
       "</style>\n",
       "<table border=\"1\" class=\"dataframe\">\n",
       "  <thead>\n",
       "    <tr style=\"text-align: right;\">\n",
       "      <th></th>\n",
       "      <th>type</th>\n",
       "      <th>fixed acidity</th>\n",
       "      <th>volatile acidity</th>\n",
       "      <th>citric acid</th>\n",
       "      <th>residual sugar</th>\n",
       "      <th>chlorides</th>\n",
       "      <th>free sulfur dioxide</th>\n",
       "      <th>total sulfur dioxide</th>\n",
       "      <th>pH</th>\n",
       "      <th>sulphates</th>\n",
       "      <th>alcohol</th>\n",
       "      <th>quality</th>\n",
       "    </tr>\n",
       "  </thead>\n",
       "  <tbody>\n",
       "    <tr>\n",
       "      <th>0</th>\n",
       "      <td>white</td>\n",
       "      <td>7.0</td>\n",
       "      <td>0.27</td>\n",
       "      <td>0.36</td>\n",
       "      <td>20.7</td>\n",
       "      <td>0.045</td>\n",
       "      <td>45.0</td>\n",
       "      <td>170.0</td>\n",
       "      <td>3.00</td>\n",
       "      <td>0.45</td>\n",
       "      <td>8.8</td>\n",
       "      <td>6</td>\n",
       "    </tr>\n",
       "    <tr>\n",
       "      <th>1</th>\n",
       "      <td>white</td>\n",
       "      <td>6.3</td>\n",
       "      <td>0.30</td>\n",
       "      <td>0.34</td>\n",
       "      <td>1.6</td>\n",
       "      <td>0.049</td>\n",
       "      <td>14.0</td>\n",
       "      <td>132.0</td>\n",
       "      <td>3.30</td>\n",
       "      <td>0.49</td>\n",
       "      <td>9.5</td>\n",
       "      <td>6</td>\n",
       "    </tr>\n",
       "    <tr>\n",
       "      <th>2</th>\n",
       "      <td>white</td>\n",
       "      <td>8.1</td>\n",
       "      <td>0.28</td>\n",
       "      <td>0.40</td>\n",
       "      <td>6.9</td>\n",
       "      <td>0.050</td>\n",
       "      <td>30.0</td>\n",
       "      <td>97.0</td>\n",
       "      <td>3.26</td>\n",
       "      <td>0.44</td>\n",
       "      <td>10.1</td>\n",
       "      <td>6</td>\n",
       "    </tr>\n",
       "    <tr>\n",
       "      <th>3</th>\n",
       "      <td>white</td>\n",
       "      <td>7.2</td>\n",
       "      <td>0.23</td>\n",
       "      <td>0.32</td>\n",
       "      <td>8.5</td>\n",
       "      <td>0.058</td>\n",
       "      <td>47.0</td>\n",
       "      <td>186.0</td>\n",
       "      <td>3.19</td>\n",
       "      <td>0.40</td>\n",
       "      <td>9.9</td>\n",
       "      <td>6</td>\n",
       "    </tr>\n",
       "    <tr>\n",
       "      <th>4</th>\n",
       "      <td>white</td>\n",
       "      <td>7.2</td>\n",
       "      <td>0.23</td>\n",
       "      <td>0.32</td>\n",
       "      <td>8.5</td>\n",
       "      <td>0.058</td>\n",
       "      <td>47.0</td>\n",
       "      <td>186.0</td>\n",
       "      <td>3.19</td>\n",
       "      <td>0.40</td>\n",
       "      <td>9.9</td>\n",
       "      <td>6</td>\n",
       "    </tr>\n",
       "  </tbody>\n",
       "</table>\n",
       "</div>"
      ],
      "text/plain": [
       "    type  fixed acidity  volatile acidity  citric acid  residual sugar  \\\n",
       "0  white            7.0              0.27         0.36            20.7   \n",
       "1  white            6.3              0.30         0.34             1.6   \n",
       "2  white            8.1              0.28         0.40             6.9   \n",
       "3  white            7.2              0.23         0.32             8.5   \n",
       "4  white            7.2              0.23         0.32             8.5   \n",
       "\n",
       "   chlorides  free sulfur dioxide  total sulfur dioxide    pH  sulphates  \\\n",
       "0      0.045                 45.0                 170.0  3.00       0.45   \n",
       "1      0.049                 14.0                 132.0  3.30       0.49   \n",
       "2      0.050                 30.0                  97.0  3.26       0.44   \n",
       "3      0.058                 47.0                 186.0  3.19       0.40   \n",
       "4      0.058                 47.0                 186.0  3.19       0.40   \n",
       "\n",
       "   alcohol  quality  \n",
       "0      8.8        6  \n",
       "1      9.5        6  \n",
       "2     10.1        6  \n",
       "3      9.9        6  \n",
       "4      9.9        6  "
      ]
     },
     "execution_count": 12,
     "metadata": {},
     "output_type": "execute_result"
    }
   ],
   "source": [
    "dataset.head()"
   ]
  },
  {
   "cell_type": "markdown",
   "metadata": {},
   "source": [
    "## 3. High Correlation Filter"
   ]
  },
  {
   "cell_type": "code",
   "execution_count": 13,
   "metadata": {},
   "outputs": [
    {
     "data": {
      "text/html": [
       "<div>\n",
       "<style scoped>\n",
       "    .dataframe tbody tr th:only-of-type {\n",
       "        vertical-align: middle;\n",
       "    }\n",
       "\n",
       "    .dataframe tbody tr th {\n",
       "        vertical-align: top;\n",
       "    }\n",
       "\n",
       "    .dataframe thead th {\n",
       "        text-align: right;\n",
       "    }\n",
       "</style>\n",
       "<table border=\"1\" class=\"dataframe\">\n",
       "  <thead>\n",
       "    <tr style=\"text-align: right;\">\n",
       "      <th></th>\n",
       "      <th>fixed acidity</th>\n",
       "      <th>volatile acidity</th>\n",
       "      <th>citric acid</th>\n",
       "      <th>residual sugar</th>\n",
       "      <th>chlorides</th>\n",
       "      <th>free sulfur dioxide</th>\n",
       "      <th>total sulfur dioxide</th>\n",
       "      <th>pH</th>\n",
       "      <th>sulphates</th>\n",
       "      <th>alcohol</th>\n",
       "      <th>quality</th>\n",
       "    </tr>\n",
       "  </thead>\n",
       "  <tbody>\n",
       "    <tr>\n",
       "      <th>fixed acidity</th>\n",
       "      <td>1.000000</td>\n",
       "      <td>0.221066</td>\n",
       "      <td>0.323744</td>\n",
       "      <td>-0.113442</td>\n",
       "      <td>0.299104</td>\n",
       "      <td>-0.283485</td>\n",
       "      <td>-0.330543</td>\n",
       "      <td>-0.251121</td>\n",
       "      <td>0.301263</td>\n",
       "      <td>-0.096190</td>\n",
       "      <td>-0.076174</td>\n",
       "    </tr>\n",
       "    <tr>\n",
       "      <th>volatile acidity</th>\n",
       "      <td>0.221066</td>\n",
       "      <td>1.000000</td>\n",
       "      <td>-0.377512</td>\n",
       "      <td>-0.196677</td>\n",
       "      <td>0.377995</td>\n",
       "      <td>-0.353402</td>\n",
       "      <td>-0.414729</td>\n",
       "      <td>0.260134</td>\n",
       "      <td>0.225656</td>\n",
       "      <td>-0.039528</td>\n",
       "      <td>-0.266677</td>\n",
       "    </tr>\n",
       "    <tr>\n",
       "      <th>citric acid</th>\n",
       "      <td>0.323744</td>\n",
       "      <td>-0.377512</td>\n",
       "      <td>1.000000</td>\n",
       "      <td>0.142324</td>\n",
       "      <td>0.039412</td>\n",
       "      <td>0.132271</td>\n",
       "      <td>0.194398</td>\n",
       "      <td>-0.327860</td>\n",
       "      <td>0.059070</td>\n",
       "      <td>-0.010056</td>\n",
       "      <td>0.084926</td>\n",
       "    </tr>\n",
       "    <tr>\n",
       "      <th>residual sugar</th>\n",
       "      <td>-0.113442</td>\n",
       "      <td>-0.196677</td>\n",
       "      <td>0.142324</td>\n",
       "      <td>1.000000</td>\n",
       "      <td>-0.128814</td>\n",
       "      <td>0.403449</td>\n",
       "      <td>0.495684</td>\n",
       "      <td>-0.266481</td>\n",
       "      <td>-0.185616</td>\n",
       "      <td>-0.359132</td>\n",
       "      <td>-0.034654</td>\n",
       "    </tr>\n",
       "    <tr>\n",
       "      <th>chlorides</th>\n",
       "      <td>0.299104</td>\n",
       "      <td>0.377995</td>\n",
       "      <td>0.039412</td>\n",
       "      <td>-0.128814</td>\n",
       "      <td>1.000000</td>\n",
       "      <td>-0.195428</td>\n",
       "      <td>-0.279602</td>\n",
       "      <td>0.044653</td>\n",
       "      <td>0.396240</td>\n",
       "      <td>-0.257664</td>\n",
       "      <td>-0.200553</td>\n",
       "    </tr>\n",
       "    <tr>\n",
       "      <th>free sulfur dioxide</th>\n",
       "      <td>-0.283485</td>\n",
       "      <td>-0.353402</td>\n",
       "      <td>0.132271</td>\n",
       "      <td>0.403449</td>\n",
       "      <td>-0.195428</td>\n",
       "      <td>1.000000</td>\n",
       "      <td>0.721476</td>\n",
       "      <td>-0.145164</td>\n",
       "      <td>-0.188947</td>\n",
       "      <td>-0.179477</td>\n",
       "      <td>0.054924</td>\n",
       "    </tr>\n",
       "    <tr>\n",
       "      <th>total sulfur dioxide</th>\n",
       "      <td>-0.330543</td>\n",
       "      <td>-0.414729</td>\n",
       "      <td>0.194398</td>\n",
       "      <td>0.495684</td>\n",
       "      <td>-0.279602</td>\n",
       "      <td>0.721476</td>\n",
       "      <td>1.000000</td>\n",
       "      <td>-0.237204</td>\n",
       "      <td>-0.275878</td>\n",
       "      <td>-0.264385</td>\n",
       "      <td>-0.041598</td>\n",
       "    </tr>\n",
       "    <tr>\n",
       "      <th>pH</th>\n",
       "      <td>-0.251121</td>\n",
       "      <td>0.260134</td>\n",
       "      <td>-0.327860</td>\n",
       "      <td>-0.266481</td>\n",
       "      <td>0.044653</td>\n",
       "      <td>-0.145164</td>\n",
       "      <td>-0.237204</td>\n",
       "      <td>1.000000</td>\n",
       "      <td>0.190864</td>\n",
       "      <td>0.120473</td>\n",
       "      <td>0.018403</td>\n",
       "    </tr>\n",
       "    <tr>\n",
       "      <th>sulphates</th>\n",
       "      <td>0.301263</td>\n",
       "      <td>0.225656</td>\n",
       "      <td>0.059070</td>\n",
       "      <td>-0.185616</td>\n",
       "      <td>0.396240</td>\n",
       "      <td>-0.188947</td>\n",
       "      <td>-0.275878</td>\n",
       "      <td>0.190864</td>\n",
       "      <td>1.000000</td>\n",
       "      <td>-0.004116</td>\n",
       "      <td>0.039054</td>\n",
       "    </tr>\n",
       "    <tr>\n",
       "      <th>alcohol</th>\n",
       "      <td>-0.096190</td>\n",
       "      <td>-0.039528</td>\n",
       "      <td>-0.010056</td>\n",
       "      <td>-0.359132</td>\n",
       "      <td>-0.257664</td>\n",
       "      <td>-0.179477</td>\n",
       "      <td>-0.264385</td>\n",
       "      <td>0.120473</td>\n",
       "      <td>-0.004116</td>\n",
       "      <td>1.000000</td>\n",
       "      <td>0.444637</td>\n",
       "    </tr>\n",
       "    <tr>\n",
       "      <th>quality</th>\n",
       "      <td>-0.076174</td>\n",
       "      <td>-0.266677</td>\n",
       "      <td>0.084926</td>\n",
       "      <td>-0.034654</td>\n",
       "      <td>-0.200553</td>\n",
       "      <td>0.054924</td>\n",
       "      <td>-0.041598</td>\n",
       "      <td>0.018403</td>\n",
       "      <td>0.039054</td>\n",
       "      <td>0.444637</td>\n",
       "      <td>1.000000</td>\n",
       "    </tr>\n",
       "  </tbody>\n",
       "</table>\n",
       "</div>"
      ],
      "text/plain": [
       "                      fixed acidity  volatile acidity  citric acid  \\\n",
       "fixed acidity              1.000000          0.221066     0.323744   \n",
       "volatile acidity           0.221066          1.000000    -0.377512   \n",
       "citric acid                0.323744         -0.377512     1.000000   \n",
       "residual sugar            -0.113442         -0.196677     0.142324   \n",
       "chlorides                  0.299104          0.377995     0.039412   \n",
       "free sulfur dioxide       -0.283485         -0.353402     0.132271   \n",
       "total sulfur dioxide      -0.330543         -0.414729     0.194398   \n",
       "pH                        -0.251121          0.260134    -0.327860   \n",
       "sulphates                  0.301263          0.225656     0.059070   \n",
       "alcohol                   -0.096190         -0.039528    -0.010056   \n",
       "quality                   -0.076174         -0.266677     0.084926   \n",
       "\n",
       "                      residual sugar  chlorides  free sulfur dioxide  \\\n",
       "fixed acidity              -0.113442   0.299104            -0.283485   \n",
       "volatile acidity           -0.196677   0.377995            -0.353402   \n",
       "citric acid                 0.142324   0.039412             0.132271   \n",
       "residual sugar              1.000000  -0.128814             0.403449   \n",
       "chlorides                  -0.128814   1.000000            -0.195428   \n",
       "free sulfur dioxide         0.403449  -0.195428             1.000000   \n",
       "total sulfur dioxide        0.495684  -0.279602             0.721476   \n",
       "pH                         -0.266481   0.044653            -0.145164   \n",
       "sulphates                  -0.185616   0.396240            -0.188947   \n",
       "alcohol                    -0.359132  -0.257664            -0.179477   \n",
       "quality                    -0.034654  -0.200553             0.054924   \n",
       "\n",
       "                      total sulfur dioxide        pH  sulphates   alcohol  \\\n",
       "fixed acidity                    -0.330543 -0.251121   0.301263 -0.096190   \n",
       "volatile acidity                 -0.414729  0.260134   0.225656 -0.039528   \n",
       "citric acid                       0.194398 -0.327860   0.059070 -0.010056   \n",
       "residual sugar                    0.495684 -0.266481  -0.185616 -0.359132   \n",
       "chlorides                        -0.279602  0.044653   0.396240 -0.257664   \n",
       "free sulfur dioxide               0.721476 -0.145164  -0.188947 -0.179477   \n",
       "total sulfur dioxide              1.000000 -0.237204  -0.275878 -0.264385   \n",
       "pH                               -0.237204  1.000000   0.190864  0.120473   \n",
       "sulphates                        -0.275878  0.190864   1.000000 -0.004116   \n",
       "alcohol                          -0.264385  0.120473  -0.004116  1.000000   \n",
       "quality                          -0.041598  0.018403   0.039054  0.444637   \n",
       "\n",
       "                       quality  \n",
       "fixed acidity        -0.076174  \n",
       "volatile acidity     -0.266677  \n",
       "citric acid           0.084926  \n",
       "residual sugar       -0.034654  \n",
       "chlorides            -0.200553  \n",
       "free sulfur dioxide   0.054924  \n",
       "total sulfur dioxide -0.041598  \n",
       "pH                    0.018403  \n",
       "sulphates             0.039054  \n",
       "alcohol               0.444637  \n",
       "quality               1.000000  "
      ]
     },
     "execution_count": 13,
     "metadata": {},
     "output_type": "execute_result"
    }
   ],
   "source": [
    "#checking the correlation\n",
    "\n",
    "dataset.corr()"
   ]
  },
  {
   "cell_type": "code",
   "execution_count": 14,
   "metadata": {},
   "outputs": [
    {
     "data": {
      "image/png": "[encoded data removed]",
      "text/plain": [
       "<Figure size 576x576 with 2 Axes>"
      ]
     },
     "metadata": {
      "needs_background": "light"
     },
     "output_type": "display_data"
    }
   ],
   "source": [
    "#Making a heatmap\n",
    "\n",
    "plt.figure(figsize = (8, 8))\n",
    "sns.heatmap(dataset.corr(), annot = True)\n",
    "plt.title('Correlation Matrix', fontsize = 20)\n",
    "plt.xlabel('Parameters', fontsize = 15) \n",
    "plt.ylabel('Parameters', fontsize = 15) \n",
    "plt.show()"
   ]
  },
  {
   "cell_type": "code",
   "execution_count": 15,
   "metadata": {},
   "outputs": [],
   "source": [
    "#since the free sulfur dioxide and total sulfur dioxide has more correlation drop any of those. lets drop total sulfur dioxide\n",
    "\n",
    "dataset=dataset.drop(['total sulfur dioxide'],axis=1)"
   ]
  },
  {
   "cell_type": "code",
   "execution_count": 16,
   "metadata": {},
   "outputs": [
    {
     "data": {
      "text/html": [
       "<div>\n",
       "<style scoped>\n",
       "    .dataframe tbody tr th:only-of-type {\n",
       "        vertical-align: middle;\n",
       "    }\n",
       "\n",
       "    .dataframe tbody tr th {\n",
       "        vertical-align: top;\n",
       "    }\n",
       "\n",
       "    .dataframe thead th {\n",
       "        text-align: right;\n",
       "    }\n",
       "</style>\n",
       "<table border=\"1\" class=\"dataframe\">\n",
       "  <thead>\n",
       "    <tr style=\"text-align: right;\">\n",
       "      <th></th>\n",
       "      <th>type</th>\n",
       "      <th>fixed acidity</th>\n",
       "      <th>volatile acidity</th>\n",
       "      <th>citric acid</th>\n",
       "      <th>residual sugar</th>\n",
       "      <th>chlorides</th>\n",
       "      <th>free sulfur dioxide</th>\n",
       "      <th>pH</th>\n",
       "      <th>sulphates</th>\n",
       "      <th>alcohol</th>\n",
       "      <th>quality</th>\n",
       "    </tr>\n",
       "  </thead>\n",
       "  <tbody>\n",
       "    <tr>\n",
       "      <th>0</th>\n",
       "      <td>white</td>\n",
       "      <td>7.0</td>\n",
       "      <td>0.27</td>\n",
       "      <td>0.36</td>\n",
       "      <td>20.7</td>\n",
       "      <td>0.045</td>\n",
       "      <td>45.0</td>\n",
       "      <td>3.00</td>\n",
       "      <td>0.45</td>\n",
       "      <td>8.8</td>\n",
       "      <td>6</td>\n",
       "    </tr>\n",
       "    <tr>\n",
       "      <th>1</th>\n",
       "      <td>white</td>\n",
       "      <td>6.3</td>\n",
       "      <td>0.30</td>\n",
       "      <td>0.34</td>\n",
       "      <td>1.6</td>\n",
       "      <td>0.049</td>\n",
       "      <td>14.0</td>\n",
       "      <td>3.30</td>\n",
       "      <td>0.49</td>\n",
       "      <td>9.5</td>\n",
       "      <td>6</td>\n",
       "    </tr>\n",
       "    <tr>\n",
       "      <th>2</th>\n",
       "      <td>white</td>\n",
       "      <td>8.1</td>\n",
       "      <td>0.28</td>\n",
       "      <td>0.40</td>\n",
       "      <td>6.9</td>\n",
       "      <td>0.050</td>\n",
       "      <td>30.0</td>\n",
       "      <td>3.26</td>\n",
       "      <td>0.44</td>\n",
       "      <td>10.1</td>\n",
       "      <td>6</td>\n",
       "    </tr>\n",
       "    <tr>\n",
       "      <th>3</th>\n",
       "      <td>white</td>\n",
       "      <td>7.2</td>\n",
       "      <td>0.23</td>\n",
       "      <td>0.32</td>\n",
       "      <td>8.5</td>\n",
       "      <td>0.058</td>\n",
       "      <td>47.0</td>\n",
       "      <td>3.19</td>\n",
       "      <td>0.40</td>\n",
       "      <td>9.9</td>\n",
       "      <td>6</td>\n",
       "    </tr>\n",
       "    <tr>\n",
       "      <th>4</th>\n",
       "      <td>white</td>\n",
       "      <td>7.2</td>\n",
       "      <td>0.23</td>\n",
       "      <td>0.32</td>\n",
       "      <td>8.5</td>\n",
       "      <td>0.058</td>\n",
       "      <td>47.0</td>\n",
       "      <td>3.19</td>\n",
       "      <td>0.40</td>\n",
       "      <td>9.9</td>\n",
       "      <td>6</td>\n",
       "    </tr>\n",
       "  </tbody>\n",
       "</table>\n",
       "</div>"
      ],
      "text/plain": [
       "    type  fixed acidity  volatile acidity  citric acid  residual sugar  \\\n",
       "0  white            7.0              0.27         0.36            20.7   \n",
       "1  white            6.3              0.30         0.34             1.6   \n",
       "2  white            8.1              0.28         0.40             6.9   \n",
       "3  white            7.2              0.23         0.32             8.5   \n",
       "4  white            7.2              0.23         0.32             8.5   \n",
       "\n",
       "   chlorides  free sulfur dioxide    pH  sulphates  alcohol  quality  \n",
       "0      0.045                 45.0  3.00       0.45      8.8        6  \n",
       "1      0.049                 14.0  3.30       0.49      9.5        6  \n",
       "2      0.050                 30.0  3.26       0.44     10.1        6  \n",
       "3      0.058                 47.0  3.19       0.40      9.9        6  \n",
       "4      0.058                 47.0  3.19       0.40      9.9        6  "
      ]
     },
     "execution_count": 16,
     "metadata": {},
     "output_type": "execute_result"
    }
   ],
   "source": [
    "dataset.head()"
   ]
  },
  {
   "cell_type": "code",
   "execution_count": 17,
   "metadata": {},
   "outputs": [],
   "source": [
    "#convert the type category into numerical data - ordinal encoding\n",
    "\n",
    "dataset = dataset.replace('red', 0)\n",
    "dataset = dataset.replace('white', 1)"
   ]
  },
  {
   "cell_type": "code",
   "execution_count": 18,
   "metadata": {},
   "outputs": [
    {
     "data": {
      "text/html": [
       "<div>\n",
       "<style scoped>\n",
       "    .dataframe tbody tr th:only-of-type {\n",
       "        vertical-align: middle;\n",
       "    }\n",
       "\n",
       "    .dataframe tbody tr th {\n",
       "        vertical-align: top;\n",
       "    }\n",
       "\n",
       "    .dataframe thead th {\n",
       "        text-align: right;\n",
       "    }\n",
       "</style>\n",
       "<table border=\"1\" class=\"dataframe\">\n",
       "  <thead>\n",
       "    <tr style=\"text-align: right;\">\n",
       "      <th></th>\n",
       "      <th>type</th>\n",
       "      <th>fixed acidity</th>\n",
       "      <th>volatile acidity</th>\n",
       "      <th>citric acid</th>\n",
       "      <th>residual sugar</th>\n",
       "      <th>chlorides</th>\n",
       "      <th>free sulfur dioxide</th>\n",
       "      <th>pH</th>\n",
       "      <th>sulphates</th>\n",
       "      <th>alcohol</th>\n",
       "      <th>quality</th>\n",
       "    </tr>\n",
       "  </thead>\n",
       "  <tbody>\n",
       "    <tr>\n",
       "      <th>0</th>\n",
       "      <td>1</td>\n",
       "      <td>7.0</td>\n",
       "      <td>0.27</td>\n",
       "      <td>0.36</td>\n",
       "      <td>20.7</td>\n",
       "      <td>0.045</td>\n",
       "      <td>45.0</td>\n",
       "      <td>3.00</td>\n",
       "      <td>0.45</td>\n",
       "      <td>8.8</td>\n",
       "      <td>6</td>\n",
       "    </tr>\n",
       "    <tr>\n",
       "      <th>1</th>\n",
       "      <td>1</td>\n",
       "      <td>6.3</td>\n",
       "      <td>0.30</td>\n",
       "      <td>0.34</td>\n",
       "      <td>1.6</td>\n",
       "      <td>0.049</td>\n",
       "      <td>14.0</td>\n",
       "      <td>3.30</td>\n",
       "      <td>0.49</td>\n",
       "      <td>9.5</td>\n",
       "      <td>6</td>\n",
       "    </tr>\n",
       "    <tr>\n",
       "      <th>2</th>\n",
       "      <td>1</td>\n",
       "      <td>8.1</td>\n",
       "      <td>0.28</td>\n",
       "      <td>0.40</td>\n",
       "      <td>6.9</td>\n",
       "      <td>0.050</td>\n",
       "      <td>30.0</td>\n",
       "      <td>3.26</td>\n",
       "      <td>0.44</td>\n",
       "      <td>10.1</td>\n",
       "      <td>6</td>\n",
       "    </tr>\n",
       "    <tr>\n",
       "      <th>3</th>\n",
       "      <td>1</td>\n",
       "      <td>7.2</td>\n",
       "      <td>0.23</td>\n",
       "      <td>0.32</td>\n",
       "      <td>8.5</td>\n",
       "      <td>0.058</td>\n",
       "      <td>47.0</td>\n",
       "      <td>3.19</td>\n",
       "      <td>0.40</td>\n",
       "      <td>9.9</td>\n",
       "      <td>6</td>\n",
       "    </tr>\n",
       "    <tr>\n",
       "      <th>4</th>\n",
       "      <td>1</td>\n",
       "      <td>7.2</td>\n",
       "      <td>0.23</td>\n",
       "      <td>0.32</td>\n",
       "      <td>8.5</td>\n",
       "      <td>0.058</td>\n",
       "      <td>47.0</td>\n",
       "      <td>3.19</td>\n",
       "      <td>0.40</td>\n",
       "      <td>9.9</td>\n",
       "      <td>6</td>\n",
       "    </tr>\n",
       "  </tbody>\n",
       "</table>\n",
       "</div>"
      ],
      "text/plain": [
       "   type  fixed acidity  volatile acidity  citric acid  residual sugar  \\\n",
       "0     1            7.0              0.27         0.36            20.7   \n",
       "1     1            6.3              0.30         0.34             1.6   \n",
       "2     1            8.1              0.28         0.40             6.9   \n",
       "3     1            7.2              0.23         0.32             8.5   \n",
       "4     1            7.2              0.23         0.32             8.5   \n",
       "\n",
       "   chlorides  free sulfur dioxide    pH  sulphates  alcohol  quality  \n",
       "0      0.045                 45.0  3.00       0.45      8.8        6  \n",
       "1      0.049                 14.0  3.30       0.49      9.5        6  \n",
       "2      0.050                 30.0  3.26       0.44     10.1        6  \n",
       "3      0.058                 47.0  3.19       0.40      9.9        6  \n",
       "4      0.058                 47.0  3.19       0.40      9.9        6  "
      ]
     },
     "execution_count": 18,
     "metadata": {},
     "output_type": "execute_result"
    }
   ],
   "source": [
    "dataset.head()"
   ]
  },
  {
   "cell_type": "code",
   "execution_count": 19,
   "metadata": {},
   "outputs": [],
   "source": [
    "#drop the target variable type and load this data into another dataframe\n",
    "\n",
    "df=dataset.drop(['quality'],axis=1)"
   ]
  },
  {
   "cell_type": "code",
   "execution_count": 20,
   "metadata": {},
   "outputs": [
    {
     "data": {
      "text/plain": [
       "(6463, 10)"
      ]
     },
     "execution_count": 20,
     "metadata": {},
     "output_type": "execute_result"
    }
   ],
   "source": [
    "df.shape"
   ]
  },
  {
   "cell_type": "markdown",
   "metadata": {},
   "source": [
    "## 4. Random Forest"
   ]
  },
  {
   "cell_type": "code",
   "execution_count": 21,
   "metadata": {},
   "outputs": [
    {
     "data": {
      "text/plain": [
       "RandomForestRegressor(max_depth=10, random_state=1)"
      ]
     },
     "execution_count": 21,
     "metadata": {},
     "output_type": "execute_result"
    }
   ],
   "source": [
    "#import the package for random forest\n",
    "from sklearn.ensemble import RandomForestRegressor\n",
    "\n",
    "model = RandomForestRegressor(random_state=1, max_depth=10)\n",
    "model.fit(df,dataset.quality)"
   ]
  },
  {
   "cell_type": "code",
   "execution_count": 22,
   "metadata": {},
   "outputs": [
    {
     "data": {
      "image/png": "[encoded data removed]",
      "text/plain": [
       "<Figure size 432x288 with 1 Axes>"
      ]
     },
     "metadata": {
      "needs_background": "light"
     },
     "output_type": "display_data"
    }
   ],
   "source": [
    "#Build the graph to check feature importance\n",
    "\n",
    "features = df.columns\n",
    "importances = model.feature_importances_\n",
    "indices = np.argsort(importances)[-10:]  # top 10 features\n",
    "plt.title('Feature Importances')\n",
    "plt.barh(range(len(indices)), importances[indices], color='b', align='center')\n",
    "plt.yticks(range(len(indices)), [features[i] for i in indices])\n",
    "plt.xlabel('Relative Importance')\n",
    "plt.show()"
   ]
  },
  {
   "cell_type": "code",
   "execution_count": 23,
   "metadata": {},
   "outputs": [],
   "source": [
    "#quality is of least importance so drop that\n",
    "\n",
    "df=df.drop(['type'],axis=1)"
   ]
  },
  {
   "cell_type": "markdown",
   "metadata": {},
   "source": [
    "## 5. Backward Feature Extraction"
   ]
  },
  {
   "cell_type": "code",
   "execution_count": 24,
   "metadata": {},
   "outputs": [],
   "source": [
    "#import the feature selection libraries and linear regression libraries \n",
    "\n",
    "from sklearn.linear_model import LinearRegression\n",
    "from sklearn.feature_selection import RFE\n",
    "\n",
    "lreg = LinearRegression()\n",
    "rfe = RFE(lreg,n_features_to_select=7)\n",
    "rfe = rfe.fit(df, dataset.quality)"
   ]
  },
  {
   "cell_type": "code",
   "execution_count": 25,
   "metadata": {},
   "outputs": [
    {
     "name": "stdout",
     "output_type": "stream",
     "text": [
      "Index(['fixed acidity', 'volatile acidity', 'citric acid', 'chlorides', 'pH',\n",
      "       'sulphates', 'alcohol'],\n",
      "      dtype='object')\n"
     ]
    }
   ],
   "source": [
    "#check the retained column names\n",
    "\n",
    "x_rfe = df[df.columns[rfe.support_]]\n",
    "print(x_rfe.columns)"
   ]
  },
  {
   "cell_type": "markdown",
   "metadata": {},
   "source": [
    "## 6. Forward Feature Selection"
   ]
  },
  {
   "cell_type": "code",
   "execution_count": 26,
   "metadata": {},
   "outputs": [],
   "source": [
    "#import the required libraries for forward selection\n",
    "\n",
    "from sklearn.feature_selection import f_regression\n",
    "ffs = f_regression(x_rfe,dataset.quality )"
   ]
  },
  {
   "cell_type": "code",
   "execution_count": 27,
   "metadata": {},
   "outputs": [],
   "source": [
    "#Take the top most variables after the forward selection process\n",
    "\n",
    "final_features = [ ]\n",
    "for i in range(0,len(x_rfe.columns)-1):\n",
    "    if ffs[0][i] >=10:\n",
    "        final_features.append(df.columns[i])"
   ]
  },
  {
   "cell_type": "code",
   "execution_count": 28,
   "metadata": {},
   "outputs": [
    {
     "data": {
      "text/plain": [
       "['fixed acidity', 'volatile acidity', 'citric acid', 'residual sugar']"
      ]
     },
     "execution_count": 28,
     "metadata": {},
     "output_type": "execute_result"
    }
   ],
   "source": [
    "final_features"
   ]
  }
 ],
 "metadata": {
  "kernelspec": {
   "display_name": "Python 3 (ipykernel)",
   "language": "python",
   "name": "python3"
  },
  "language_info": {
   "codemirror_mode": {
    "name": "ipython",
    "version": 3
   },
   "file_extension": ".py",
   "mimetype": "text/x-python",
   "name": "python",
   "nbconvert_exporter": "python",
   "pygments_lexer": "ipython3",
   "version": "3.9.7"
  }
 },
 "nbformat": 4,
 "nbformat_minor": 4
}
